{
 "cells": [
  {
   "cell_type": "markdown",
   "metadata": {
    "slideshow": {
     "slide_type": "slide"
    }
   },
   "source": [
    "# Reproducible science  as open-source science"
   ]
  },
  {
   "cell_type": "markdown",
   "metadata": {
    "slideshow": {
     "slide_type": "slide"
    }
   },
   "source": [
    "## The reproducibility/replicability crisis\n",
    "* A cumulative science depends on the ability to produce the same result under the same conditions\n",
    "* Reproducibility vs. replicability\n",
    "* Scientists are generally not very good at either of these\n",
    "* Why?"
   ]
  },
  {
   "cell_type": "markdown",
   "metadata": {
    "slideshow": {
     "slide_type": "slide"
    }
   },
   "source": [
    "## Some solutions\n",
    "* Better reporting standards\n",
    "* Better statistical methods (confidence intervals, Bayesian inference, etc.)\n",
    "* Preregistration\n",
    "* Change the incentive structure\n",
    "* Etc. etc.\n",
    "* Most of these are specific to science, or even specific scientific fields"
   ]
  },
  {
   "cell_type": "markdown",
   "metadata": {
    "slideshow": {
     "slide_type": "slide"
    }
   },
   "source": [
    "## Reproducibility is arguably a solved problem\n",
    "* Scientists are not unique in their need for reproducibility\n",
    "* Many/most of our reproducibility problems are actually software problems\n",
    "* A number of best practices that are ubiquitous in (open-source) software developers would solve many problems in scientific reproducibility"
   ]
  },
  {
   "cell_type": "markdown",
   "metadata": {
    "slideshow": {
     "slide_type": "slide"
    }
   },
   "source": [
    "## 1. Automate everything*\n",
    "* Point-and-click analysis is almost by definition irreproducible\n",
    "* Log/record as much as possible\n",
    "* Analysis should ideally be [completely programmatic](http://nbviewer.jupyter.org/github/WagnerLabPapers/Waskom_JNeurosci_2014/blob/master/Behavioral_and_Decoding_Analyses.ipynb)\n",
    "* There are different degrees of automation, of course"
   ]
  },
  {
   "cell_type": "markdown",
   "metadata": {
    "slideshow": {
     "slide_type": "slide"
    }
   },
   "source": [
    "## 2. Version control\n",
    "* We change stuff as we work, and changing stuff tends to break stuff\n",
    "* How can we efficiently and easily keep track of changes?\n",
    "    * *Not* by naming our files things like *analysis_script_v6_April_2017_final_final_TY_edits.doc.txt.bak*\n",
    "* Formal version control tools (e.g., git, SVN) are ubiquitous in software development\n",
    "    * Every single change to every document can be incrementally tracked"
   ]
  },
  {
   "cell_type": "markdown",
   "metadata": {
    "slideshow": {
     "slide_type": "subslide"
    }
   },
   "source": [
    "## 2b. Doing it in front of other people\n",
    "* If you maintain your code/data/results publicly, there are many other benefits\n",
    "    * People are more likely to use/cite your work ([McKiernan et al., 2016](https://elifesciences.org/content/5/e16800))\n",
    "    * People are more likely to contribute to your work\n",
    "    * Fewer \"I'm sorry, I don't know where those data are\" emails to write"
   ]
  },
  {
   "cell_type": "markdown",
   "metadata": {
    "slideshow": {
     "slide_type": "slide"
    }
   },
   "source": [
    "## 3. Interactive notebooks\n",
    "* A lab notebook, in interactive, digital form\n",
    "* Consolidates text/markdown, code, results, figures, etc."
   ]
  },
  {
   "cell_type": "code",
   "execution_count": null,
   "metadata": {
    "collapsed": false,
    "slideshow": {
     "slide_type": "fragment"
    }
   },
   "outputs": [],
   "source": [
    "%matplotlib inline\n",
    "from matplotlib import pyplot as plt\n",
    "import numpy as np\n",
    "\n",
    "plt.scatter(np.random.normal(size=100), np.random.normal(size=100))"
   ]
  },
  {
   "cell_type": "markdown",
   "metadata": {
    "slideshow": {
     "slide_type": "fragment"
    }
   },
   "source": [
    "* In the best case, essentially a [fully reproducible scientific paper](https://github.com/jupyter/jupyter/wiki/A-gallery-of-interesting-Jupyter-Notebooks#reproducible-academic-publications)\n",
    "* These slides are a [Jupyter](http://jupyter.org) notebook"
   ]
  },
  {
   "cell_type": "markdown",
   "metadata": {
    "slideshow": {
     "slide_type": "slide"
    }
   },
   "source": [
    "## 4. Test everything\n",
    "* In psychology, we frequently talk about \"manipulation checks\"\n",
    "* The same notion is formalized and made ubiquitous in software testing\n",
    "* Write tests that automatically verify that code does what you expect it to\n",
    "    * Prevents changes to one part of codebase breaking others\n",
    "* E.g., if you wrote your own statistical routine, verify that it correctly produces known results\n",
    "* There are all kinds of tools to facilitate fully integrated and automated testing"
   ]
  },
  {
   "cell_type": "code",
   "execution_count": null,
   "metadata": {
    "collapsed": false,
    "slideshow": {
     "slide_type": "fragment"
    }
   },
   "outputs": [],
   "source": [
    "def my_addition_function(x, y):\n",
    "    return x + 2*y"
   ]
  },
  {
   "cell_type": "code",
   "execution_count": null,
   "metadata": {
    "collapsed": true,
    "slideshow": {
     "slide_type": "fragment"
    }
   },
   "outputs": [],
   "source": [
    "def test_addition_function():\n",
    "    assert my_addition_function(4, 6) == 10"
   ]
  },
  {
   "cell_type": "code",
   "execution_count": null,
   "metadata": {
    "collapsed": false,
    "slideshow": {
     "slide_type": "fragment"
    }
   },
   "outputs": [],
   "source": [
    "test_addition_function()"
   ]
  },
  {
   "cell_type": "markdown",
   "metadata": {
    "slideshow": {
     "slide_type": "slide"
    }
   },
   "source": [
    "## 5. Accept error\n",
    "* Bugs are inevitable in both software and science\n",
    "* Enormous cultural differences in recognition/acceptance of error\n",
    "* Why?\n",
    "    * The immutability of peer-reviewed journal publications imposes huge costs to admissions of error\n",
    "    * Open-source software allows and encourages rapid changes and improvement\n",
    "* And no, people do *not* point at laugh when someone acknowledges an error\n",
    "    * They say, \"thank you for fixing that\""
   ]
  },
  {
   "cell_type": "markdown",
   "metadata": {
    "slideshow": {
     "slide_type": "slide"
    }
   },
   "source": [
    "# So why aren't we doing all this stuff?\n",
    "* We are! Scientists have been making huge strides\n",
    "* But that's no reason for complacency\n",
    "* Many people are still not on board\n",
    "* A couple of common objections (and rebuttals)..."
   ]
  },
  {
   "cell_type": "markdown",
   "metadata": {
    "slideshow": {
     "slide_type": "slide"
    }
   },
   "source": [
    "## \"I don't know how to do this stuff!\"\n",
    "* Most scientists don't receive formal training in programming or scientific computing\n",
    "* Rebuttal:\n",
    "    * Scientists are smart! We can learn!\n",
    "    * There's no question that different training will be required\n",
    "    * We should think of scientific computing the way we think of statistics: as a fundamental prerequisite for doing serious work"
   ]
  },
  {
   "cell_type": "markdown",
   "metadata": {
    "slideshow": {
     "slide_type": "slide"
    }
   },
   "source": [
    "## \"This all takes a lot of time and effort, and I'm really busy!\"\n",
    "* It's easier to write the minimal, messy script than to create clean, reproducible, shareable repositories\n",
    "* Rebuttal:\n",
    "    * Oh yeah? How much time do you waste trying to reconstruct/reproduce your own buggy, opaque analyses from 6 months ago?\n",
    "    * May be true in the short term, but efficiency increases dramatically in the long term\n",
    "    * \"You can do anything in just 5 lines of R code, but learning to write those 5 lines will take you a few years\" --someone on Twitter"
   ]
  },
  {
   "cell_type": "markdown",
   "metadata": {
    "slideshow": {
     "slide_type": "slide"
    }
   },
   "source": [
    "## \"They're all going to laugh at me!\"\n",
    "* Showing everyone your work will lead them to pointing out all the problems with it\n",
    "* Rebuttal:\n",
    "    * Let's say they do... they're probably saving you from more laughs in the long term\n",
    "    * You should be so lucky\n",
    "    * People are way more understanding than you might think (e.g., because they have the same doubts)"
   ]
  },
  {
   "cell_type": "markdown",
   "metadata": {
    "slideshow": {
     "slide_type": "slide"
    }
   },
   "source": [
    "## \"The incentives are broken!\"\n",
    "* The current system incentivizes fast-and-flashy work and disincentivizes careful, methodical, reproducible research\n",
    "* Rebuttal:\n",
    "    * It also arguably incentivizes outright data fabrication, but we don't do that, right?\n",
    "    * Not clear that this is true any more; one can now earn recognition for doing reproducible work\n",
    "    * There are huge incentives to learning scientific computing (e.g., having excellent career options outside of academia)"
   ]
  },
  {
   "cell_type": "markdown",
   "metadata": {
    "slideshow": {
     "slide_type": "slide"
    }
   },
   "source": [
    "# Scientific computing as the new statistics\n",
    "* We're failing our students if we don't teach them the scientific computing skills they need in order to conduct reproducible science\n",
    "* All of the arguments one hears against making such training ubiquitous could also be applied to statistics\n",
    "* Widespread training in scientific computing would alleviate many of our reproducibility/replication problems for free"
   ]
  }
 ],
 "metadata": {
  "celltoolbar": "Slideshow",
  "kernelspec": {
   "display_name": "Python 3",
   "language": "python",
   "name": "python3"
  },
  "language_info": {
   "codemirror_mode": {
    "name": "ipython",
    "version": 3
   },
   "file_extension": ".py",
   "mimetype": "text/x-python",
   "name": "python",
   "nbconvert_exporter": "python",
   "pygments_lexer": "ipython3",
   "version": "3.5.2"
  }
 },
 "nbformat": 4,
 "nbformat_minor": 2
}
